{
 "cells": [
  {
   "cell_type": "markdown",
   "id": "8c595d28",
   "metadata": {},
   "source": [
    "# Coding Questions\n",
    "### Juan Ballas"
   ]
  },
  {
   "cell_type": "markdown",
   "id": "3aa6821f",
   "metadata": {},
   "source": [
    "#### 1. Create a list of 10 numbers and find out the minimum, maximum, and total (sum) of the list. "
   ]
  },
  {
   "cell_type": "code",
   "execution_count": 1,
   "id": "4600c192",
   "metadata": {},
   "outputs": [],
   "source": [
    "list1=[20,30,40,10,50,70,10,15,5,100]"
   ]
  },
  {
   "cell_type": "code",
   "execution_count": 2,
   "id": "3f1b0d31",
   "metadata": {},
   "outputs": [
    {
     "name": "stdout",
     "output_type": "stream",
     "text": [
      "5\n"
     ]
    }
   ],
   "source": [
    "print(min(list1))"
   ]
  },
  {
   "cell_type": "code",
   "execution_count": 3,
   "id": "ffddd9b1",
   "metadata": {},
   "outputs": [
    {
     "name": "stdout",
     "output_type": "stream",
     "text": [
      "100\n"
     ]
    }
   ],
   "source": [
    "print(max(list1))"
   ]
  },
  {
   "cell_type": "code",
   "execution_count": 4,
   "id": "3aeb0947",
   "metadata": {},
   "outputs": [
    {
     "name": "stdout",
     "output_type": "stream",
     "text": [
      "350\n"
     ]
    }
   ],
   "source": [
    "print(sum(list1))"
   ]
  },
  {
   "cell_type": "markdown",
   "id": "93fd7cf1",
   "metadata": {},
   "source": [
    "#### 2. What is a nested If statement? Get input from a user and check whether the number is odd or not. If the number is odd it is also less than or equal to 20. If not, then print relevant information"
   ]
  },
  {
   "cell_type": "code",
   "execution_count": 9,
   "id": "1de38851",
   "metadata": {},
   "outputs": [
    {
     "name": "stdout",
     "output_type": "stream",
     "text": [
      "Enter a number: 21\n",
      "21.0 is odd and higher than 20.\n"
     ]
    }
   ],
   "source": [
    "number1=float(input(\"Enter a number: \"))\n",
    "if number1%2!=0:\n",
    "    if number1<=20:\n",
    "        print(f'{number1} is odd and less or equal than 20.')\n",
    "    else:\n",
    "        print(f'{number1} is odd and higher than 20.')\n",
    "else:\n",
    "    print(f'{number1} is even.')"
   ]
  },
  {
   "cell_type": "markdown",
   "id": "b4e07be2",
   "metadata": {},
   "source": [
    "#### 3. Get a user input of an integer number and check if the given number is a multiple of 11 or not."
   ]
  },
  {
   "cell_type": "code",
   "execution_count": null,
   "id": "6e6f3db6",
   "metadata": {},
   "outputs": [],
   "source": [
    "number=int(input(\"Enter a number: \")\n",
    "\n",
    "if number%11==0:\n",
    "\n",
    "     print(f\"{number} is a multiple of 11\")\n",
    "\n",
    "else:\n",
    "\n",
    "     print(f\"{number} is not a multiple of 11\")"
   ]
  },
  {
   "cell_type": "code",
   "execution_count": 10,
   "id": "82c838ae",
   "metadata": {},
   "outputs": [
    {
     "name": "stdout",
     "output_type": "stream",
     "text": [
      "Enter a number: 33\n",
      "33 is multiple of 11.\n"
     ]
    }
   ],
   "source": [
    "number2=int(input('Enter a number: '))\n",
    "if number2%11==0:\n",
    "    print(f'{number2} is multiple of 11.')\n",
    "else:\n",
    "    print(f'{number2} is not mulitple of 11.')"
   ]
  },
  {
   "cell_type": "markdown",
   "id": "fdf28c1b",
   "metadata": {},
   "source": [
    "#### 5. In the United States, as of 1995, a minor is generally legally defined as a person under the age of 18. Write a code to check whether a student is a minor or not where the input will be given by users."
   ]
  },
  {
   "cell_type": "code",
   "execution_count": 12,
   "id": "8bcd4d87",
   "metadata": {},
   "outputs": [
    {
     "name": "stdout",
     "output_type": "stream",
     "text": [
      "Enter your age: 12\n",
      "Person is a minor\n"
     ]
    }
   ],
   "source": [
    "age1=int(input('Enter your age: '))\n",
    "if age1>18:\n",
    "    print('Person is not a minor')\n",
    "else:\n",
    "    print('Person is a minor')"
   ]
  },
  {
   "cell_type": "markdown",
   "id": "f7fb5415",
   "metadata": {},
   "source": [
    "#### 8. Write down a program using a for loop that prints all numbers from 1 to 15 and adds them to a list called numbers_list. \n",
    "* numbers_list=[1,2,3,4,...15]"
   ]
  },
  {
   "cell_type": "code",
   "execution_count": 21,
   "id": "11f6d953",
   "metadata": {},
   "outputs": [
    {
     "name": "stdout",
     "output_type": "stream",
     "text": [
      "1\n",
      "2\n",
      "3\n",
      "4\n",
      "5\n",
      "6\n",
      "7\n",
      "8\n",
      "9\n",
      "10\n",
      "11\n",
      "12\n",
      "13\n",
      "14\n",
      "15\n"
     ]
    }
   ],
   "source": [
    "numbers_list=[]\n",
    "for k in range (1,16):\n",
    "    print(k)"
   ]
  },
  {
   "cell_type": "code",
   "execution_count": 22,
   "id": "450d03eb",
   "metadata": {},
   "outputs": [
    {
     "name": "stdout",
     "output_type": "stream",
     "text": [
      "The list is: [1, 2, 3, 4, 5, 6, 7, 8, 9, 10, 11, 12, 13, 14, 15, 15]\n"
     ]
    }
   ],
   "source": [
    "numbers_list1.append(i)\n",
    "print(f\"The list is: {numbers_list1}\")"
   ]
  }
 ],
 "metadata": {
  "kernelspec": {
   "display_name": "Python 3 (ipykernel)",
   "language": "python",
   "name": "python3"
  },
  "language_info": {
   "codemirror_mode": {
    "name": "ipython",
    "version": 3
   },
   "file_extension": ".py",
   "mimetype": "text/x-python",
   "name": "python",
   "nbconvert_exporter": "python",
   "pygments_lexer": "ipython3",
   "version": "3.11.4"
  }
 },
 "nbformat": 4,
 "nbformat_minor": 5
}
